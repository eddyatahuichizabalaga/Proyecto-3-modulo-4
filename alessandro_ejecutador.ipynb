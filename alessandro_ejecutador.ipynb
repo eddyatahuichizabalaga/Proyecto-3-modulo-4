{
 "cells": [
  {
   "cell_type": "code",
   "execution_count": 1,
   "id": "a1494542",
   "metadata": {},
   "outputs": [
    {
     "name": "stdout",
     "output_type": "stream",
     "text": [
      "Cargar variables de entorno desde archivo .env\n"
     ]
    }
   ],
   "source": [
    "import alessandro as alessandro"
   ]
  },
  {
   "cell_type": "code",
   "execution_count": 3,
   "id": "1704ede6",
   "metadata": {},
   "outputs": [
    {
     "name": "stdout",
     "output_type": "stream",
     "text": [
      "Speak into your microphone.\n",
      "Recognized: ¿Alessandro, quién es Alicia Keys?\n",
      "Speech to text: [¡Claro!, Alicia Augello Cook,  conocida artísticamente como Alicia Keys es una cantante compositora, productora musical y actriz estadounidense. ]\n"
     ]
    }
   ],
   "source": [
    "#agregar funcion from_mic()\n",
    "entrada_microfono = alessandro.from_mic()\n",
    "#recoge el texto de microfono\n",
    "texto_microfono = entrada_microfono.text\n",
    "#toda la operacion\n",
    "verificador = alessandro.si_existe_alessandro(texto_microfono,\"Alessandro\")\n",
    "#el primer if es para verificar si se dijo \"Alessandro\" en la oracion\n",
    "if verificador == True:\n",
    "    responce = alessandro.analyze_text(texto_microfono)\n",
    "    #el segundo if es para ver si la oracion dictada por el microfono sea inapropiada\n",
    "    if responce.sexual_result.severity<1 and responce.hate_result.severity<1 and responce.self_harm_result.severity<1 and responce.violence_result.severity<1:              \n",
    "        valor = alessandro.verificar_nombra_artista(texto_microfono)\n",
    "        #el tercer if es para ver en la oracion si es que se dice el nombre de un artista donde si hay mas de 1 es que existe en la oracion mas de una sola persona\n",
    "        if valor > 1:\n",
    "            artista = alessandro.sacar_artista(texto_microfono)\n",
    "            descripcion_artista = alessandro.buscardor_artista(artista)\n",
    "            resultado_final = descripcion_artista\n",
    "        else:\n",
    "            resultado_final = \"Lo siento, soy un asistente únicamente orientado a darte información sobre figuras públicas.\"\n",
    "    else:\n",
    "        resultado_final=\"Lo siento, no puedo ayudarte porque he detectado contenido ofensivo en tu pregunta\"\n",
    "else:\n",
    "    resultado_final = 'Volver a intentarlo, con la palabra Alessandro al comienzo porfavor'\n",
    "    \n",
    "alessandro.leer_texto(resultado_final)"
   ]
  }
 ],
 "metadata": {
  "kernelspec": {
   "display_name": "Python 3 (ipykernel)",
   "language": "python",
   "name": "python3"
  },
  "language_info": {
   "codemirror_mode": {
    "name": "ipython",
    "version": 3
   },
   "file_extension": ".py",
   "mimetype": "text/x-python",
   "name": "python",
   "nbconvert_exporter": "python",
   "pygments_lexer": "ipython3",
   "version": "3.11.5"
  }
 },
 "nbformat": 4,
 "nbformat_minor": 5
}
